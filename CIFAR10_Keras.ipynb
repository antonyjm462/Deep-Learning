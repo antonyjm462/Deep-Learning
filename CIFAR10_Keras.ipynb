{
  "nbformat": 4,
  "nbformat_minor": 0,
  "metadata": {
    "colab": {
      "name": "CIFAR10 Keras.ipynb",
      "provenance": [],
      "collapsed_sections": []
    },
    "kernelspec": {
      "name": "python3",
      "display_name": "Python 3"
    }
  },
  "cells": [
    {
      "cell_type": "markdown",
      "metadata": {
        "id": "C0xF3Q2UzmFs",
        "colab_type": "text"
      },
      "source": [
        "# CIFAR-10 Classifier\n",
        "with Keras with TensorFlow backend"
      ]
    },
    {
      "cell_type": "markdown",
      "metadata": {
        "id": "zUySrYFxz1ea",
        "colab_type": "text"
      },
      "source": [
        "## Import necessary Libraries"
      ]
    },
    {
      "cell_type": "code",
      "metadata": {
        "id": "08S-3QA1bQXW",
        "colab_type": "code",
        "colab": {}
      },
      "source": [
        "import keras\n",
        "from keras.datasets import cifar10\n",
        "from keras.preprocessing.image import ImageDataGenerator\n",
        "from keras.models import Sequential\n",
        "from keras.layers import Dense, Dropout, Activation, Flatten\n",
        "from keras.layers import Conv2D, MaxPooling2D\n",
        "import os"
      ],
      "execution_count": 0,
      "outputs": []
    },
    {
      "cell_type": "markdown",
      "metadata": {
        "id": "Dk_fa97kz_2W",
        "colab_type": "text"
      },
      "source": [
        "## Loading  and Processing Dataset"
      ]
    },
    {
      "cell_type": "code",
      "metadata": {
        "id": "Rpsfqv30bQFM",
        "colab_type": "code",
        "outputId": "8277a243-2da9-4d8a-a7ca-e690d62a220c",
        "colab": {
          "base_uri": "https://localhost:8080/",
          "height": 72
        }
      },
      "source": [
        "# The data, split between train and test sets:\n",
        "(x_train, y_train), (x_test, y_test) = cifar10.load_data()\n",
        "print('x_train shape:', x_train.shape)\n",
        "print(x_train.shape[0], 'train samples')\n",
        "print(x_test.shape[0], 'test samples')"
      ],
      "execution_count": 0,
      "outputs": [
        {
          "output_type": "stream",
          "text": [
            "x_train shape: (50000, 32, 32, 3)\n",
            "50000 train samples\n",
            "10000 test samples\n"
          ],
          "name": "stdout"
        }
      ]
    },
    {
      "cell_type": "code",
      "metadata": {
        "id": "QJOpAxBBbZ-N",
        "colab_type": "code",
        "colab": {}
      },
      "source": [
        "# Convert class vectors to binary class matrices.\n",
        "y_train = keras.utils.to_categorical(y_train, num_classes)\n",
        "y_test = keras.utils.to_categorical(y_test, num_classes)"
      ],
      "execution_count": 0,
      "outputs": []
    },
    {
      "cell_type": "code",
      "metadata": {
        "id": "yKGWe_uFbl_f",
        "colab_type": "code",
        "colab": {}
      },
      "source": [
        "# Normalizing the images\n",
        "x_train = x_train.astype('float32')\n",
        "x_test = x_test.astype('float32')\n",
        "x_train /= 255\n",
        "x_test /= 255"
      ],
      "execution_count": 0,
      "outputs": []
    },
    {
      "cell_type": "markdown",
      "metadata": {
        "id": "V9dasdt30IgH",
        "colab_type": "text"
      },
      "source": [
        "## Defining and Compiling Model"
      ]
    },
    {
      "cell_type": "code",
      "metadata": {
        "id": "7QEnlDkzbcH8",
        "colab_type": "code",
        "colab": {}
      },
      "source": [
        "model = Sequential()\n",
        "model.add(Conv2D(32, (3, 3), padding='same',\n",
        "                 input_shape=x_train.shape[1:]))\n",
        "model.add(Activation('relu'))\n",
        "model.add(Conv2D(32, (3, 3)))\n",
        "model.add(Activation('relu'))\n",
        "model.add(MaxPooling2D(pool_size=(2, 2)))\n",
        "model.add(Dropout(0.25))\n",
        "\n",
        "model.add(Conv2D(64, (3, 3), padding='same'))\n",
        "model.add(Activation('relu'))\n",
        "model.add(Conv2D(64, (3, 3)))\n",
        "model.add(Activation('relu'))\n",
        "model.add(MaxPooling2D(pool_size=(2, 2)))\n",
        "model.add(Dropout(0.25))\n",
        "\n",
        "model.add(Flatten())\n",
        "model.add(Dense(512))\n",
        "model.add(Activation('relu'))\n",
        "model.add(Dropout(0.5))\n",
        "model.add(Dense(num_classes))\n",
        "model.add(Activation('softmax'))"
      ],
      "execution_count": 0,
      "outputs": []
    },
    {
      "cell_type": "code",
      "metadata": {
        "id": "TQVE5wZ4bhgc",
        "colab_type": "code",
        "colab": {}
      },
      "source": [
        "# initiate RMSprop optimizer\n",
        "opt = keras.optimizers.rmsprop(lr=0.0001, decay=1e-6)\n",
        "\n",
        "# Let's train the model using RMSprop\n",
        "model.compile(loss='categorical_crossentropy',\n",
        "              optimizer=opt,\n",
        "              metrics=['accuracy'])"
      ],
      "execution_count": 0,
      "outputs": []
    },
    {
      "cell_type": "markdown",
      "metadata": {
        "id": "WYb17APK0qoL",
        "colab_type": "text"
      },
      "source": [
        "## Training the model"
      ]
    },
    {
      "cell_type": "code",
      "metadata": {
        "id": "Bjr18LvSbQOa",
        "colab_type": "code",
        "colab": {}
      },
      "source": [
        "batch_size = 32\n",
        "num_classes = 10\n",
        "\n",
        "epochs = 100\n",
        "\n",
        "data_augmentation = True\n",
        "num_predictions = 20\n",
        "save_dir = os.path.join(os.getcwd(), 'saved_models')\n",
        "model_name = 'keras_cifar10_trained_model.h5'"
      ],
      "execution_count": 0,
      "outputs": []
    },
    {
      "cell_type": "code",
      "metadata": {
        "id": "cvtx-8pwbIwr",
        "colab_type": "code",
        "outputId": "5d97d289-69c3-4cbf-a190-400ea6b3579a",
        "colab": {
          "base_uri": "https://localhost:8080/",
          "height": 1000
        }
      },
      "source": [
        "if not data_augmentation:\n",
        "    print('Not using data augmentation.')\n",
        "    model.fit(x_train, y_train,\n",
        "              batch_size=batch_size,\n",
        "              epochs=epochs,\n",
        "              validation_data=(x_test, y_test),\n",
        "              shuffle=True)\n",
        "else:\n",
        "    print('Using real-time data augmentation.')\n",
        "    # This will do preprocessing and realtime data augmentation:\n",
        "    datagen = ImageDataGenerator(\n",
        "        featurewise_center=False,  # set input mean to 0 over the dataset\n",
        "        samplewise_center=False,  # set each sample mean to 0\n",
        "        featurewise_std_normalization=False,  # divide inputs by std of the dataset\n",
        "        samplewise_std_normalization=False,  # divide each input by its std\n",
        "        zca_whitening=False,  # apply ZCA whitening\n",
        "        zca_epsilon=1e-06,  # epsilon for ZCA whitening\n",
        "        rotation_range=0,  # randomly rotate images in the range (degrees, 0 to 180)\n",
        "        # randomly shift images horizontally (fraction of total width)\n",
        "        width_shift_range=0.1,\n",
        "        # randomly shift images vertically (fraction of total height)\n",
        "        height_shift_range=0.1,\n",
        "        shear_range=0.,  # set range for random shear\n",
        "        zoom_range=0.,  # set range for random zoom\n",
        "        channel_shift_range=0.,  # set range for random channel shifts\n",
        "        # set mode for filling points outside the input boundaries\n",
        "        fill_mode='nearest',\n",
        "        cval=0.,  # value used for fill_mode = \"constant\"\n",
        "        horizontal_flip=True,  # randomly flip images\n",
        "        vertical_flip=False,  # randomly flip images\n",
        "        # set rescaling factor (applied before any other transformation)\n",
        "        rescale=None,\n",
        "        # set function that will be applied on each input\n",
        "        preprocessing_function=None,\n",
        "        # image data format, either \"channels_first\" or \"channels_last\"\n",
        "        data_format=None,\n",
        "        # fraction of images reserved for validation (strictly between 0 and 1)\n",
        "        validation_split=0.0)\n",
        "\n",
        "    # Compute quantities required for feature-wise normalization\n",
        "    # (std, mean, and principal components if ZCA whitening is applied).\n",
        "    datagen.fit(x_train)\n",
        "\n",
        "    # Fit the model on the batches generated by datagen.flow().\n",
        "    model.fit_generator(datagen.flow(x_train, y_train,\n",
        "                                     batch_size=batch_size),\n",
        "                        epochs=epochs,\n",
        "                        validation_data=(x_test, y_test),\n",
        "                        steps_per_epoch=1,\n",
        "                        workers=4)\n"
      ],
      "execution_count": 0,
      "outputs": [
        {
          "output_type": "stream",
          "text": [
            "Using real-time data augmentation.\n",
            "Epoch 1/100\n",
            "1/1 [==============================] - 12s 12s/step - loss: 2.3359 - acc: 0.0625 - val_loss: 2.3013 - val_acc: 0.1096\n",
            "Epoch 2/100\n",
            "1/1 [==============================] - 11s 11s/step - loss: 2.3283 - acc: 0.0938 - val_loss: 2.2997 - val_acc: 0.1090\n",
            "Epoch 3/100\n",
            "1/1 [==============================] - 11s 11s/step - loss: 2.2880 - acc: 0.0625 - val_loss: 2.3002 - val_acc: 0.0992\n",
            "Epoch 4/100\n",
            "1/1 [==============================] - 11s 11s/step - loss: 2.2851 - acc: 0.1562 - val_loss: 2.2994 - val_acc: 0.1246\n",
            "Epoch 5/100\n",
            "1/1 [==============================] - 11s 11s/step - loss: 2.2705 - acc: 0.1250 - val_loss: 2.3008 - val_acc: 0.1266\n",
            "Epoch 6/100\n",
            "1/1 [==============================] - 11s 11s/step - loss: 2.3503 - acc: 0.0938 - val_loss: 2.3002 - val_acc: 0.1143\n",
            "Epoch 7/100\n",
            "1/1 [==============================] - 11s 11s/step - loss: 2.3240 - acc: 0.0938 - val_loss: 2.3001 - val_acc: 0.1027\n",
            "Epoch 8/100\n",
            "1/1 [==============================] - 11s 11s/step - loss: 2.3758 - acc: 0.0000e+00 - val_loss: 2.2989 - val_acc: 0.1077\n",
            "Epoch 9/100\n",
            "1/1 [==============================] - 11s 11s/step - loss: 2.3224 - acc: 0.1562 - val_loss: 2.2986 - val_acc: 0.1332\n",
            "Epoch 10/100\n",
            "1/1 [==============================] - 11s 11s/step - loss: 2.3062 - acc: 0.1250 - val_loss: 2.2983 - val_acc: 0.1130\n",
            "Epoch 11/100\n",
            "1/1 [==============================] - 11s 11s/step - loss: 2.3041 - acc: 0.1250 - val_loss: 2.2983 - val_acc: 0.1100\n",
            "Epoch 12/100\n",
            "1/1 [==============================] - 11s 11s/step - loss: 2.3476 - acc: 0.0938 - val_loss: 2.2982 - val_acc: 0.1078\n",
            "Epoch 13/100\n",
            "1/1 [==============================] - 11s 11s/step - loss: 2.2884 - acc: 0.0938 - val_loss: 2.2974 - val_acc: 0.1100\n",
            "Epoch 14/100\n",
            "1/1 [==============================] - 11s 11s/step - loss: 2.3002 - acc: 0.0625 - val_loss: 2.2970 - val_acc: 0.1128\n",
            "Epoch 15/100\n",
            "1/1 [==============================] - 11s 11s/step - loss: 2.3052 - acc: 0.0312 - val_loss: 2.2973 - val_acc: 0.1072\n",
            "Epoch 16/100\n",
            "1/1 [==============================] - 11s 11s/step - loss: 2.3133 - acc: 0.0312 - val_loss: 2.2968 - val_acc: 0.1120\n",
            "Epoch 17/100\n",
            "1/1 [==============================] - 11s 11s/step - loss: 2.3499 - acc: 0.0625 - val_loss: 2.2965 - val_acc: 0.1141\n",
            "Epoch 18/100\n",
            "1/1 [==============================] - 11s 11s/step - loss: 2.2908 - acc: 0.0938 - val_loss: 2.2960 - val_acc: 0.1352\n",
            "Epoch 19/100\n",
            "1/1 [==============================] - 11s 11s/step - loss: 2.3351 - acc: 0.0312 - val_loss: 2.2963 - val_acc: 0.1223\n",
            "Epoch 20/100\n",
            "1/1 [==============================] - 11s 11s/step - loss: 2.3077 - acc: 0.0625 - val_loss: 2.2967 - val_acc: 0.1349\n",
            "Epoch 21/100\n",
            "1/1 [==============================] - 11s 11s/step - loss: 2.2891 - acc: 0.1562 - val_loss: 2.2963 - val_acc: 0.1308\n",
            "Epoch 22/100\n",
            "1/1 [==============================] - 11s 11s/step - loss: 2.3159 - acc: 0.0625 - val_loss: 2.2959 - val_acc: 0.1401\n",
            "Epoch 23/100\n",
            "1/1 [==============================] - 11s 11s/step - loss: 2.2674 - acc: 0.2500 - val_loss: 2.2959 - val_acc: 0.1317\n",
            "Epoch 24/100\n",
            "1/1 [==============================] - 11s 11s/step - loss: 2.2949 - acc: 0.1875 - val_loss: 2.2950 - val_acc: 0.1430\n",
            "Epoch 25/100\n",
            "1/1 [==============================] - 11s 11s/step - loss: 2.3091 - acc: 0.0625 - val_loss: 2.2947 - val_acc: 0.1568\n",
            "Epoch 26/100\n",
            "1/1 [==============================] - 11s 11s/step - loss: 2.3100 - acc: 0.0312 - val_loss: 2.2949 - val_acc: 0.1623\n",
            "Epoch 27/100\n",
            "1/1 [==============================] - 11s 11s/step - loss: 2.2988 - acc: 0.1562 - val_loss: 2.2936 - val_acc: 0.1642\n",
            "Epoch 28/100\n",
            "1/1 [==============================] - 11s 11s/step - loss: 2.3399 - acc: 0.0625 - val_loss: 2.2939 - val_acc: 0.1606\n",
            "Epoch 29/100\n",
            "1/1 [==============================] - 11s 11s/step - loss: 2.2650 - acc: 0.1875 - val_loss: 2.2937 - val_acc: 0.1549\n",
            "Epoch 30/100\n"
          ],
          "name": "stdout"
        }
      ]
    },
    {
      "cell_type": "markdown",
      "metadata": {
        "id": "ERNZMTQE0mMh",
        "colab_type": "text"
      },
      "source": [
        "## Testing the model"
      ]
    },
    {
      "cell_type": "code",
      "metadata": {
        "id": "af4INJDgbz4m",
        "colab_type": "code",
        "colab": {}
      },
      "source": [
        "# Score trained model.\n",
        "scores = model.evaluate(x_test, y_test, verbose=1)\n",
        "print('Test loss:', scores[0])\n",
        "print('Test accuracy:', scores[1])"
      ],
      "execution_count": 0,
      "outputs": []
    },
    {
      "cell_type": "markdown",
      "metadata": {
        "id": "PIGA9zY70c5i",
        "colab_type": "text"
      },
      "source": [
        "## Saving the Trained model"
      ]
    },
    {
      "cell_type": "code",
      "metadata": {
        "id": "nvAWhDGibv7-",
        "colab_type": "code",
        "colab": {}
      },
      "source": [
        "# Save model and weights\n",
        "if not os.path.isdir(save_dir):\n",
        "    os.makedirs(save_dir)\n",
        "model_path = os.path.join(save_dir, model_name)\n",
        "model.save(model_path)\n",
        "print('Saved trained model at %s ' % model_path)"
      ],
      "execution_count": 0,
      "outputs": []
    }
  ]
}